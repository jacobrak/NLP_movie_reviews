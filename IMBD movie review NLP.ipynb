{
 "cells": [
  {
   "cell_type": "code",
   "execution_count": 39,
   "metadata": {},
   "outputs": [],
   "source": [
    "import pandas as pd "
   ]
  },
  {
   "cell_type": "code",
   "execution_count": 40,
   "metadata": {},
   "outputs": [],
   "source": [
    "df = pd.read_csv(\"IMDB Dataset.csv\")"
   ]
  },
  {
   "cell_type": "code",
   "execution_count": 41,
   "metadata": {},
   "outputs": [],
   "source": [
    "pd.set_option('future.no_silent_downcasting', True)\n",
    "df = df.replace({\"positive\": 1, \"negative\": 0}).infer_objects(copy=False)"
   ]
  },
  {
   "cell_type": "code",
   "execution_count": 42,
   "metadata": {},
   "outputs": [
    {
     "data": {
      "text/html": [
       "<div>\n",
       "<style scoped>\n",
       "    .dataframe tbody tr th:only-of-type {\n",
       "        vertical-align: middle;\n",
       "    }\n",
       "\n",
       "    .dataframe tbody tr th {\n",
       "        vertical-align: top;\n",
       "    }\n",
       "\n",
       "    .dataframe thead th {\n",
       "        text-align: right;\n",
       "    }\n",
       "</style>\n",
       "<table border=\"1\" class=\"dataframe\">\n",
       "  <thead>\n",
       "    <tr style=\"text-align: right;\">\n",
       "      <th></th>\n",
       "      <th>review</th>\n",
       "      <th>sentiment</th>\n",
       "    </tr>\n",
       "  </thead>\n",
       "  <tbody>\n",
       "    <tr>\n",
       "      <th>0</th>\n",
       "      <td>One of the other reviewers has mentioned that ...</td>\n",
       "      <td>1</td>\n",
       "    </tr>\n",
       "    <tr>\n",
       "      <th>1</th>\n",
       "      <td>A wonderful little production. &lt;br /&gt;&lt;br /&gt;The...</td>\n",
       "      <td>1</td>\n",
       "    </tr>\n",
       "    <tr>\n",
       "      <th>2</th>\n",
       "      <td>I thought this was a wonderful way to spend ti...</td>\n",
       "      <td>1</td>\n",
       "    </tr>\n",
       "    <tr>\n",
       "      <th>3</th>\n",
       "      <td>Basically there's a family where a little boy ...</td>\n",
       "      <td>0</td>\n",
       "    </tr>\n",
       "    <tr>\n",
       "      <th>4</th>\n",
       "      <td>Petter Mattei's \"Love in the Time of Money\" is...</td>\n",
       "      <td>1</td>\n",
       "    </tr>\n",
       "  </tbody>\n",
       "</table>\n",
       "</div>"
      ],
      "text/plain": [
       "                                              review  sentiment\n",
       "0  One of the other reviewers has mentioned that ...          1\n",
       "1  A wonderful little production. <br /><br />The...          1\n",
       "2  I thought this was a wonderful way to spend ti...          1\n",
       "3  Basically there's a family where a little boy ...          0\n",
       "4  Petter Mattei's \"Love in the Time of Money\" is...          1"
      ]
     },
     "execution_count": 42,
     "metadata": {},
     "output_type": "execute_result"
    }
   ],
   "source": [
    "df.head(5)"
   ]
  },
  {
   "cell_type": "markdown",
   "metadata": {},
   "source": [
    "## Lets get started with some natural langauge processing!"
   ]
  },
  {
   "cell_type": "code",
   "execution_count": 43,
   "metadata": {},
   "outputs": [],
   "source": [
    "def metrics(actual, predicted):\n",
    "    # lengths must be the same\n",
    "    if len(actual) != len(predicted):\n",
    "        print(\"error lengths of actual and predicted are not the same.\")\n",
    "        return\n",
    "    \n",
    "    true_positive = 0\n",
    "    true_negative = 0\n",
    "    false_positive = 0\n",
    "    false_negative = 0\n",
    "\n",
    "    for a, p in zip(actual, predicted):\n",
    "        if a == 1 and p == 1:\n",
    "            true_positive += 1\n",
    "        elif a == 0 and p == 0:\n",
    "            true_negative += 1\n",
    "        elif a == 0 and p == 1:\n",
    "            false_positive += 1\n",
    "        elif a == 1 and p == 0:\n",
    "            false_negative += 1\n",
    "\n",
    "    try:\n",
    "        accuracy = (true_positive+true_negative)/len(predicted)\n",
    "        precision = true_positive/(true_positive+false_positive)\n",
    "        recall = true_positive/(true_positive+false_negative)\n",
    "        f1 = 2*((precision*recall)/(precision+recall))\n",
    "    except:\n",
    "        raise ZeroDivisionError(\"Division by zero\")\n",
    "\n",
    "    print(f\"accuracy:{accuracy:.4f}, Precision:{precision:.4f}, Recall:{recall:.4f}, F1:{f1:.4f}\")\n",
    "\n",
    "\n"
   ]
  },
  {
   "cell_type": "markdown",
   "metadata": {},
   "source": [
    "## Step one Linear Regression and Bag of Words!\n"
   ]
  },
  {
   "cell_type": "code",
   "execution_count": 44,
   "metadata": {},
   "outputs": [
    {
     "name": "stdout",
     "output_type": "stream",
     "text": [
      "accuracy:0.8766, Precision:0.8730, Recall:0.8837, F1:0.8783\n"
     ]
    }
   ],
   "source": [
    "from sklearn.feature_extraction.text import CountVectorizer\n",
    "from sklearn.linear_model import LogisticRegression\n",
    "from sklearn.model_selection import train_test_split\n",
    "\n",
    "# Load data\n",
    "X_train, X_test, y_train, y_test = train_test_split(df[\"review\"], df[\"sentiment\"], test_size=0.2, random_state=42)\n",
    "\n",
    "# Convert text to BoW features\n",
    "vectorizer = CountVectorizer(max_features=5000)\n",
    "X_train_bow = vectorizer.fit_transform(X_train)\n",
    "X_test_bow = vectorizer.transform(X_test)\n",
    "\n",
    "# Train classifier\n",
    "model = LogisticRegression(max_iter=1000)\n",
    "model.fit(X_train_bow, y_train)\n",
    "\n",
    "y_pred = model.predict(X_test_bow)\n",
    "\n",
    "metrics(y_test.tolist(), y_pred.tolist())"
   ]
  },
  {
   "cell_type": "markdown",
   "metadata": {},
   "source": [
    "Linear Regression might be the simplest algorithm out there, but isn't it fantastic?\n",
    "\n",
    "These values will be our baseline model! \n",
    "\n",
    "accuracy:0.8848, Precision:0.8804, Recall:0.8892, F1:0.8848"
   ]
  },
  {
   "cell_type": "code",
   "execution_count": 45,
   "metadata": {},
   "outputs": [
    {
     "name": "stdout",
     "output_type": "stream",
     "text": [
      "accuracy:0.7440, Precision:0.8204, Recall:0.6299, F1:0.7126\n"
     ]
    }
   ],
   "source": [
    "from sklearn.naive_bayes import GaussianNB\n",
    "\n",
    "model = GaussianNB()\n",
    "\n",
    "# Bayes expects \"dense array\"\n",
    "X_train_dense = X_train_bow.toarray()\n",
    "X_test_dense = X_test_bow.toarray()\n",
    "\n",
    "model.fit(X_train_dense, y_train)\n",
    "\n",
    "y_pred = model.predict(X_test_dense)\n",
    "\n",
    "metrics(y_test.tolist(), y_pred.tolist())"
   ]
  },
  {
   "cell_type": "markdown",
   "metadata": {},
   "source": [
    "Maybe not super surprising Bayes might not be kitted for NLP!\n",
    "\n",
    "One thing we have forgotten about is the data is binary! of course bayes doesn't work!\n",
    "\n",
    "We could use an SVM, however because a SVM scales with $n_{features}*n^2_{samples}$ the computation is way to slow for my machine :(\n"
   ]
  },
  {
   "cell_type": "markdown",
   "metadata": {},
   "source": [
    "## Next step Tfidvectorizer"
   ]
  },
  {
   "cell_type": "code",
   "execution_count": 46,
   "metadata": {},
   "outputs": [
    {
     "name": "stdout",
     "output_type": "stream",
     "text": [
      "accuracy:0.8997, Precision:0.8912, Recall:0.9123, F1:0.9016\n"
     ]
    }
   ],
   "source": [
    "from sklearn.feature_extraction.text import TfidfVectorizer\n",
    "\n",
    "vectorizer = TfidfVectorizer(max_features=10000)\n",
    "\n",
    "X_train_vec = vectorizer.fit_transform(X_train)\n",
    "X_test_vec = vectorizer.transform(X_test)\n",
    "\n",
    "model = LogisticRegression()\n",
    "model.fit(X_train_vec, y_train)\n",
    "\n",
    "y_pred = model.predict(X_test_vec)\n",
    "\n",
    "metrics(y_test.tolist(), y_pred.tolist())"
   ]
  },
  {
   "cell_type": "markdown",
   "metadata": {},
   "source": [
    "A new best model! \n",
    "\n",
    "How exiating our new best model is:\n",
    "\n",
    "accuracy:0.8966, Precision:0.8827, Recall:0.9129, F1:0.8975"
   ]
  },
  {
   "cell_type": "markdown",
   "metadata": {},
   "source": [
    "Let's try something intresting a PCA?\n",
    "\n",
    "Problem the pca takes forever! lets try a Truncated SVD much like a PCA!"
   ]
  },
  {
   "cell_type": "code",
   "execution_count": 47,
   "metadata": {},
   "outputs": [
    {
     "name": "stdout",
     "output_type": "stream",
     "text": [
      "accuracy:0.6090, Precision:0.6107, Recall:0.6182, F1:0.6144\n"
     ]
    }
   ],
   "source": [
    "from sklearn.decomposition import TruncatedSVD\n",
    "\n",
    "\n",
    "svd = TruncatedSVD(n_components=5, random_state=42)\n",
    "X_train_reduced = svd.fit_transform(X_train_vec)\n",
    "X_test_reduced = svd.fit_transform(X_test_vec)\n",
    "\n",
    "model.fit(X_train_reduced, y_train)\n",
    "\n",
    "y_pred = model.predict(X_test_reduced)\n",
    "\n",
    "\n",
    "metrics(y_test.tolist(), y_pred.tolist())"
   ]
  },
  {
   "cell_type": "markdown",
   "metadata": {},
   "source": [
    "Our worst model yet! \n",
    "\n",
    "accuracy:0.6012, Precision:0.5973, Recall:0.6271, F1:0.6118\n",
    "\n",
    "Our data is highly dimentional removing the dimentions makes it worse. Who could have gussed.\n",
    "\n",
    "These values are slightly better than a random guess which would be 50/50. \n",
    "\n",
    "Letter on in this project I will create my very own neural network and see if it outperforms a TruncatedSVD"
   ]
  },
  {
   "cell_type": "markdown",
   "metadata": {},
   "source": [
    "## SentimentIntensityAnalyzer AKA pretrained model from NLTK"
   ]
  },
  {
   "cell_type": "code",
   "execution_count": 48,
   "metadata": {},
   "outputs": [
    {
     "name": "stdout",
     "output_type": "stream",
     "text": [
      "first: {'neg': 0.094, 'neu': 0.531, 'pos': 0.375, 'compound': 0.9149}\n",
      "second: {'neg': 0.166, 'neu': 0.662, 'pos': 0.172, 'compound': 0.2362}\n",
      "Third: {'neg': 0.079, 'neu': 0.876, 'pos': 0.045, 'compound': -0.168}\n"
     ]
    },
    {
     "name": "stderr",
     "output_type": "stream",
     "text": [
      "[nltk_data] Downloading package vader_lexicon to\n",
      "[nltk_data]     C:\\Users\\felik\\AppData\\Roaming\\nltk_data...\n",
      "[nltk_data]   Package vader_lexicon is already up-to-date!\n"
     ]
    }
   ],
   "source": [
    "from nltk.sentiment import SentimentIntensityAnalyzer\n",
    "import nltk\n",
    "\n",
    "nltk.download('vader_lexicon')\n",
    "Semtiment = SentimentIntensityAnalyzer()\n",
    "\n",
    "\n",
    "# Testing some obvious once before\n",
    "print(f\"first: {Semtiment.polarity_scores(\"If you like original gut wrenching laughter you will like this movie. If you are young or old then you will love this movie, hell even my mom liked it.<br /><br />Great Camp!!!\")}\")\n",
    "print(f\"second: {Semtiment.polarity_scores((\"Encouraged by the positive comments about this film on here I was looking forward to watching this film. Bad mistake. I've seen 950+ films and this is truly one of the worst of them - it's awful in almost every way: editing, pacing, storyline, 'acting,' soundtrack (the film's only song - a lame country tune - is played no less than four times). The film looks cheap and nasty and is boring in the extreme. Rarely have I been so happy to see the end credits of a film. <br /><br />The only thing that prevents me giving this a 1-score is Harvey Keitel - while this is far from his best performance he at least seems to be making a bit of an effort. One for Keitel obsessives only.\"))}\")\n",
    "print(f\"Third: {Semtiment.polarity_scores((\"Besides being boring, the scenes were oppressive and dark. The movie tried to portray some kind of moral, but fell flat with its message. What were the redeeming qualities?? On top of that, I don't think it could make librarians look any more unglamorous than it did.\"))}\")\n"
   ]
  },
  {
   "cell_type": "code",
   "execution_count": 49,
   "metadata": {},
   "outputs": [
    {
     "name": "stdout",
     "output_type": "stream",
     "text": [
      "accuracy:0.6940, Precision:0.6473, Recall:0.8629, F1:0.7397\n"
     ]
    }
   ],
   "source": [
    "# approach 1\n",
    "def vader_sentiment(text):\n",
    "    score = Semtiment.polarity_scores(text)\n",
    "    return 1 if score['neg'] < score[\"pos\"] else 0\n",
    "\n",
    "y_pred = X_test.apply(vader_sentiment)\n",
    "\n",
    "\n",
    "metrics(y_test.tolist(), y_pred.tolist())"
   ]
  },
  {
   "cell_type": "code",
   "execution_count": 50,
   "metadata": {},
   "outputs": [
    {
     "name": "stdout",
     "output_type": "stream",
     "text": [
      "accuracy:0.6971, Precision:0.6518, Recall:0.8565, F1:0.7402\n"
     ]
    }
   ],
   "source": [
    "# approach 2 \n",
    "def vader_sentiment2(text):\n",
    "    score = Semtiment.polarity_scores(text)\n",
    "    return 1 if score['compound'] > 0 else 0\n",
    "\n",
    "y_pred = X_test.apply(vader_sentiment2)\n",
    "\n",
    "\n",
    "metrics(y_test.tolist(), y_pred.tolist())\n"
   ]
  },
  {
   "cell_type": "markdown",
   "metadata": {},
   "source": [
    "Both of these alternatives are not so good, better than a random guess but nothing note worthy "
   ]
  },
  {
   "cell_type": "markdown",
   "metadata": {},
   "source": [
    "# Neural networks "
   ]
  },
  {
   "cell_type": "code",
   "execution_count": 51,
   "metadata": {},
   "outputs": [],
   "source": [
    "import torch\n",
    "import torch.nn as nn\n",
    "import torch.nn.functional as F\n",
    "from torch.utils.data import DataLoader, TensorDataset\n",
    "\n",
    "torch.manual_seed(0)\n",
    "device = torch.device(\"cuda\" if torch.cuda.is_available() else \"cpu\")\n",
    "\n",
    "batch_size = 4\n",
    "drop_out_rate = 0.2\n",
    "output_shape = 1 # binary 0 , 1\n",
    "hiddenunits = 16\n",
    "input_shape = 4 # components in the truncatedSVD(after 5 nothing happens)\n",
    "\n",
    "\n"
   ]
  },
  {
   "cell_type": "code",
   "execution_count": 52,
   "metadata": {},
   "outputs": [],
   "source": [
    "# Creating the dataset\n",
    "vectorizer = TfidfVectorizer()\n",
    "\n",
    "X_train_vec = vectorizer.fit_transform(X_train)\n",
    "X_test_vec = vectorizer.transform(X_test)\n",
    "\n",
    "svd = TruncatedSVD(n_components=input_shape, random_state=42)\n",
    "X_train_reduced = svd.fit_transform(X_train_vec)\n",
    "X_test_reduced = svd.fit_transform(X_test_vec)\n",
    "\n",
    "X_train_tensor = torch.tensor(X_train_reduced, dtype=torch.float32).to(device)\n",
    "X_test_tensor = torch.tensor(X_test_reduced, dtype=torch.float32).to(device)\n",
    "y_train_tensor = torch.tensor(y_train.values, dtype=torch.float32).to(device)\n",
    "y_test_tensor = torch.tensor(y_test.values, dtype=torch.float32).to(device)\n",
    "\n",
    "train_dataset = TensorDataset(X_train_tensor, y_train_tensor)\n",
    "test_dataset = TensorDataset(X_test_tensor, y_test_tensor)\n",
    "\n",
    "training_loader = DataLoader(train_dataset, batch_size=batch_size, shuffle=True)\n",
    "testing_loader = DataLoader(test_dataset, batch_size=batch_size, shuffle=False)"
   ]
  },
  {
   "cell_type": "code",
   "execution_count": 53,
   "metadata": {},
   "outputs": [],
   "source": [
    "\n",
    "class Neuralnet(nn.Module):\n",
    "    \"\"\"\n",
    "    Simple Neural network \n",
    "    \n",
    "    Linear layer\n",
    "    ReLU activation\n",
    "    Dropout\n",
    "    \"\"\"\n",
    "    def __init__(self, input_shape, hidden_units, output_shape,drop_out_rate):\n",
    "        super().__init__()\n",
    "        self.block_1 = nn.Sequential(nn.Linear(in_features=input_shape, out_features=hidden_units),\n",
    "                                     nn.ReLU(),\n",
    "                                    nn.Dropout(drop_out_rate))\n",
    "        self.block_2 = nn.Sequential(nn.Linear(in_features=hidden_units, out_features=output_shape)\n",
    ")\n",
    "    def forward(self, x):\n",
    "        x = self.block_1(x)\n",
    "        x = self.block_2(x)\n",
    "        return x\n",
    "    \n",
    "model = Neuralnet(output_shape=output_shape, input_shape=input_shape, hidden_units=hiddenunits, drop_out_rate=drop_out_rate).to(device)"
   ]
  },
  {
   "cell_type": "code",
   "execution_count": 54,
   "metadata": {},
   "outputs": [],
   "source": [
    "import torch.optim as optim\n",
    "\n",
    "loss_fn = nn.BCEWithLogitsLoss() #binary outcome\n",
    "optimizer = optim.Adam(model.parameters(), lr=0.001)"
   ]
  },
  {
   "cell_type": "code",
   "execution_count": 55,
   "metadata": {},
   "outputs": [],
   "source": [
    "def train_loop(model, num_epochs, loss_fn, optimizer):\n",
    "    epoch_losses = []\n",
    "    # Training loop\n",
    "    for epoch in range(num_epochs):\n",
    "        model.train()  # Set model to training mode\n",
    "        epoch_loss = 0.0\n",
    "        \n",
    "        for batch_X, batch_y in training_loader:\n",
    "            optimizer.zero_grad()  # Reset gradients\n",
    "            \n",
    "            # Reshape\n",
    "            batch_y = batch_y.view(-1, 1)\n",
    "            \n",
    "            predictions = model(batch_X)  # Forward pass\n",
    "            loss = loss_fn(predictions, batch_y)  # Compute loss\n",
    "            loss.backward()  # Backpropagation\n",
    "            optimizer.step()  # Update weights\n",
    "            epoch_loss += loss.item()\n",
    "\n",
    "        avg_epoch_loss = epoch_loss / len(training_loader)\n",
    "        epoch_losses.append(avg_epoch_loss)\n",
    "        \n",
    "        if epoch % 5 == 0:\n",
    "            print(f\"Epoch [{epoch + 1}/{num_epochs}], Loss: {avg_epoch_loss:.4f}\")\n",
    "    return epoch_losses\n"
   ]
  },
  {
   "cell_type": "code",
   "execution_count": 56,
   "metadata": {},
   "outputs": [
    {
     "name": "stdout",
     "output_type": "stream",
     "text": [
      "Epoch [1/10], Loss: 0.6715\n",
      "Epoch [6/10], Loss: 0.6575\n"
     ]
    }
   ],
   "source": [
    "# runs train loop and returns epoch_losses\n",
    "epoch_losses = train_loop(model, 10, loss_fn, optimizer)"
   ]
  },
  {
   "cell_type": "code",
   "execution_count": 57,
   "metadata": {},
   "outputs": [],
   "source": [
    "# eval\n",
    "def eval_neuralnet(model):\n",
    "    model.eval()\n",
    "\n",
    "    predictions = []\n",
    "    actuals = []\n",
    "\n",
    "    with torch.no_grad():  \n",
    "        for batch_X, batch_y in zip(X_test_tensor, y_test_tensor):\n",
    "            # Get model predictions\n",
    "            output = torch.sigmoid(model(batch_X.unsqueeze(0)))  # Add batch dimension\n",
    "            pred = (output > 0.5).float()  # Apply sigmoid and convert to 0 or 1\n",
    "            \n",
    "            predictions.append(pred.cpu().numpy().flatten())\n",
    "            \n",
    "\n",
    "        return predictions"
   ]
  },
  {
   "cell_type": "code",
   "execution_count": 58,
   "metadata": {},
   "outputs": [
    {
     "name": "stdout",
     "output_type": "stream",
     "text": [
      "accuracy:0.6138, Precision:0.6441, Recall:0.5219, F1:0.5766\n"
     ]
    }
   ],
   "source": [
    "metrics(y_test.tolist(), eval_neuralnet(model))"
   ]
  },
  {
   "cell_type": "code",
   "execution_count": 59,
   "metadata": {},
   "outputs": [
    {
     "data": {
      "text/plain": [
       "\"\\n# Save models\\nmodel_path = 'model1.pth'\\ntorch.save(model.state_dict(), model_path)\\n\""
      ]
     },
     "execution_count": 59,
     "metadata": {},
     "output_type": "execute_result"
    }
   ],
   "source": [
    "\"\"\"\n",
    "# Save models\n",
    "model_path = 'model1.pth'\n",
    "torch.save(model.state_dict(), model_path)\n",
    "\"\"\""
   ]
  },
  {
   "cell_type": "code",
   "execution_count": 60,
   "metadata": {},
   "outputs": [
    {
     "data": {
      "image/png": "[encoded data removed]",
      "text/plain": [
       "<Figure size 1200x700 with 1 Axes>"
      ]
     },
     "metadata": {},
     "output_type": "display_data"
    }
   ],
   "source": [
    "import matplotlib.pyplot as plt\n",
    "def plot_epoch_losses(epoch_losses):\n",
    "    plt.figure(figsize=(12, 7))\n",
    "\n",
    "    plt.plot(range(len(epoch_losses)), epoch_losses)\n",
    "    plt.title(\"Training loss over epochs\")\n",
    "    plt.xlabel(\"Epoch\")\n",
    "    plt.ylabel(\"loss\")\n",
    "\n",
    "plot_epoch_losses(epoch_losses)"
   ]
  },
  {
   "cell_type": "markdown",
   "metadata": {},
   "source": [
    "After just 7 epochs it plateaus indicating a few possible things. \n",
    "\n",
    "Possible overfitting the data after being truncated might not be complex enough to truly analyse.\n",
    "\n",
    "Insufficient learning a more complex model might be better or adjusting the current model.\n",
    "\n",
    "Truncating might be the problem here we need another technique for changing the dataset."
   ]
  },
  {
   "cell_type": "code",
   "execution_count": 61,
   "metadata": {},
   "outputs": [
    {
     "data": {
      "text/plain": [
       "pandas.core.series.Series"
      ]
     },
     "execution_count": 61,
     "metadata": {},
     "output_type": "execute_result"
    }
   ],
   "source": [
    "type(X_test)"
   ]
  },
  {
   "cell_type": "code",
   "execution_count": 62,
   "metadata": {},
   "outputs": [],
   "source": [
    "# vectorize set max_features to 10000 (pc bottleneck)\n",
    "vectorizer = TfidfVectorizer(max_features=10000)\n",
    "\n",
    "data_train = vectorizer.fit_transform(X_train)\n",
    "data_test = vectorizer.transform(X_test)\n",
    "\n",
    "\n",
    "data_train_dense = data_train.toarray()  # Convert to dense numpy array\n",
    "data_test_dense = data_test.toarray()"
   ]
  },
  {
   "cell_type": "code",
   "execution_count": 63,
   "metadata": {},
   "outputs": [],
   "source": [
    "torch.manual_seed(0)\n",
    "\n",
    "# add to tensor\n",
    "X_train_tensor = torch.tensor(data_train_dense, dtype=torch.float32).to(device)\n",
    "X_test_tensor = torch.tensor(data_test_dense, dtype=torch.float32).to(device)\n",
    "y_train_tensor = torch.tensor(y_train.values, dtype=torch.float32).to(device)\n",
    "y_test_tensor = torch.tensor(y_test.values, dtype=torch.float32).to(device)\n",
    "\n",
    "#Dataset creation\n",
    "train_dataset = TensorDataset(X_train_tensor, y_train_tensor)\n",
    "test_dataset = TensorDataset(X_test_tensor, y_test_tensor)\n",
    "\n",
    "# test and trainloader\n",
    "training_loader = DataLoader(train_dataset, batch_size=batch_size, shuffle=True)\n",
    "testing_loader = DataLoader(test_dataset, batch_size=batch_size, shuffle=False)"
   ]
  },
  {
   "cell_type": "code",
   "execution_count": 64,
   "metadata": {},
   "outputs": [],
   "source": [
    "batch_size = 4\n",
    "drop_out_rate = 0.2\n",
    "output_shape = 1\n",
    "hiddenunits = 16\n",
    "input_shape = 10000 # components in the TfidfVectorizer "
   ]
  },
  {
   "cell_type": "code",
   "execution_count": 65,
   "metadata": {},
   "outputs": [],
   "source": [
    "model1 = Neuralnet(output_shape=output_shape, input_shape=input_shape, hidden_units=hiddenunits, drop_out_rate=drop_out_rate).to(device)"
   ]
  },
  {
   "cell_type": "code",
   "execution_count": 66,
   "metadata": {},
   "outputs": [],
   "source": [
    "loss_fn = nn.BCEWithLogitsLoss() #binary\n",
    "optimizer = optim.Adam(model1.parameters(), lr=0.001)"
   ]
  },
  {
   "cell_type": "code",
   "execution_count": 67,
   "metadata": {},
   "outputs": [
    {
     "name": "stdout",
     "output_type": "stream",
     "text": [
      "Epoch [1/25], Loss: 0.3162\n",
      "Epoch [6/25], Loss: 0.0969\n",
      "Epoch [11/25], Loss: 0.0468\n",
      "Epoch [16/25], Loss: 0.0326\n",
      "Epoch [21/25], Loss: 0.0327\n"
     ]
    }
   ],
   "source": [
    "epoch_losses = train_loop(model1, 25, loss_fn, optimizer)"
   ]
  },
  {
   "cell_type": "code",
   "execution_count": 68,
   "metadata": {},
   "outputs": [
    {
     "data": {
      "image/png": "[encoded data removed]",
      "text/plain": [
       "<Figure size 1200x700 with 1 Axes>"
      ]
     },
     "metadata": {},
     "output_type": "display_data"
    }
   ],
   "source": [
    "plot_epoch_losses(epoch_losses)"
   ]
  },
  {
   "cell_type": "markdown",
   "metadata": {},
   "source": [
    "Graph looks good if we keept training the model might get a bit better, we are on the right path!"
   ]
  },
  {
   "cell_type": "code",
   "execution_count": 69,
   "metadata": {},
   "outputs": [
    {
     "name": "stdout",
     "output_type": "stream",
     "text": [
      "accuracy:0.8719, Precision:0.8898, Recall:0.8512, F1:0.8701\n"
     ]
    }
   ],
   "source": [
    "metrics(y_test.tolist(), eval_neuralnet(model1))"
   ]
  },
  {
   "cell_type": "markdown",
   "metadata": {},
   "source": [
    "We are actually pretty close to the linear regression but that's not the point...\n",
    "\n",
    "We need a better model.\n",
    "\n",
    "How?\n",
    "\n",
    "    - More epochs\n",
    "    - Different architecture\n",
    "    - scale hyperparameters\n",
    "    - increase TfidfVectorizer size or use Word2vec or different vectorizers"
   ]
  },
  {
   "cell_type": "markdown",
   "metadata": {},
   "source": [
    "## CNN time"
   ]
  },
  {
   "cell_type": "code",
   "execution_count": 70,
   "metadata": {},
   "outputs": [],
   "source": [
    "batch_size = 32\n",
    "drop_out_rate = 0.2\n",
    "output_shape = 1 # binary 0 , 1\n",
    "hiddenunits = 16\n",
    "input_shape = 15000"
   ]
  },
  {
   "cell_type": "code",
   "execution_count": 71,
   "metadata": {},
   "outputs": [],
   "source": [
    "# vectorize set max_features to 15000 (pc bottleneck)\n",
    "\n",
    "vectorizer = TfidfVectorizer(max_features=15000)\n",
    "\n",
    "data_train = vectorizer.fit_transform(X_train)\n",
    "data_test = vectorizer.transform(X_test)\n",
    "\n",
    "\n",
    "data_train_dense = data_train.toarray()  # Convert to dense numpy array\n",
    "data_test_dense = data_test.toarray()\n",
    "torch.manual_seed(0)\n",
    "\n",
    "# add to tensor\n",
    "X_train_tensor = torch.tensor(data_train_dense, dtype=torch.float32).to(device)\n",
    "X_test_tensor = torch.tensor(data_test_dense, dtype=torch.float32).to(device)\n",
    "y_train_tensor = torch.tensor(y_train.values, dtype=torch.float32).to(device)\n",
    "y_test_tensor = torch.tensor(y_test.values, dtype=torch.float32).to(device)\n",
    "\n",
    "#Dataset creation\n",
    "train_dataset = TensorDataset(X_train_tensor, y_train_tensor)\n",
    "test_dataset = TensorDataset(X_test_tensor, y_test_tensor)\n",
    "\n",
    "# test and trainloader\n",
    "training_loader = DataLoader(train_dataset, batch_size=batch_size, shuffle=True)\n",
    "testing_loader = DataLoader(test_dataset, batch_size=batch_size, shuffle=False)"
   ]
  },
  {
   "cell_type": "code",
   "execution_count": 72,
   "metadata": {},
   "outputs": [],
   "source": [
    "\n",
    "\n",
    "class CNN(nn.Module):\n",
    "    def __init__(self, input_shape, hidden_units, output_shape, drop_out_rate):\n",
    "        super().__init__()\n",
    "\n",
    "\n",
    "        self.convblock1 = nn.Sequential(\n",
    "            nn.Conv1d(in_channels=1, out_channels=hidden_units, kernel_size=3),  # Single channel input\n",
    "            nn.ReLU(),\n",
    "            nn.MaxPool1d(kernel_size=2)\n",
    "        )\n",
    "        \n",
    "        self.convblock2 = nn.Sequential(\n",
    "            nn.Conv1d(in_channels=hidden_units, out_channels=hidden_units, kernel_size=3),\n",
    "            nn.ReLU(),\n",
    "            nn.MaxPool1d(kernel_size=2)\n",
    "        )\n",
    "        \n",
    "        # Calculate the size after the convolutional and pooling layers\n",
    "        self.fc_input_size = self._calculate_fc_input(input_shape, hidden_units)\n",
    "        \n",
    "        # Fully connected layers\n",
    "        self.connected = nn.Sequential(\n",
    "            nn.Flatten(),\n",
    "            nn.Linear(self.fc_input_size, 128),\n",
    "            nn.ReLU(),\n",
    "            nn.Dropout(p=drop_out_rate),\n",
    "            nn.Linear(128, output_shape)\n",
    "        )\n",
    "    \n",
    "    def _calculate_fc_input(self, input_shape, hidden_units):\n",
    "        \"\"\"\n",
    "        Calculate the flattened size after convolutional and pooling layers.\n",
    "        \"\"\"\n",
    "        sequence_length = input_shape  # This is the number of features\n",
    "        # After first conv + pooling\n",
    "        sequence_length = (sequence_length - 3 + 1) // 2  \n",
    "        # After second conv + pooling\n",
    "        sequence_length = (sequence_length - 3 + 1) // 2 \n",
    "        return hidden_units * sequence_length\n",
    "    \n",
    "    def forward(self, x):\n",
    "        x = x.unsqueeze(1) # unsqueeze  \n",
    "        x = self.convblock1(x)\n",
    "        x = self.convblock2(x)\n",
    "        x = self.connected(x)\n",
    "        return x"
   ]
  },
  {
   "cell_type": "code",
   "execution_count": 73,
   "metadata": {},
   "outputs": [],
   "source": [
    "model2 = CNN(output_shape=output_shape, input_shape=input_shape, hidden_units=hiddenunits, drop_out_rate=drop_out_rate).to(device)"
   ]
  },
  {
   "cell_type": "code",
   "execution_count": 74,
   "metadata": {},
   "outputs": [
    {
     "name": "stdout",
     "output_type": "stream",
     "text": [
      "Epoch [1/25], Loss: 0.4987\n",
      "Epoch [6/25], Loss: 0.0201\n",
      "Epoch [11/25], Loss: 0.0061\n",
      "Epoch [16/25], Loss: 0.0030\n",
      "Epoch [21/25], Loss: 0.0028\n"
     ]
    }
   ],
   "source": [
    "\n",
    "optimizer = optim.Adam(model2.parameters(), lr=0.001)\n",
    "loss_fn = nn.BCEWithLogitsLoss()\n",
    "epoch_losses = train_loop(model2, 25, loss_fn, optimizer)\n"
   ]
  },
  {
   "cell_type": "code",
   "execution_count": 75,
   "metadata": {},
   "outputs": [
    {
     "data": {
      "image/png": "[encoded data removed]",
      "text/plain": [
       "<Figure size 1200x700 with 1 Axes>"
      ]
     },
     "metadata": {},
     "output_type": "display_data"
    }
   ],
   "source": [
    "plot_epoch_losses(epoch_losses)"
   ]
  },
  {
   "cell_type": "code",
   "execution_count": 76,
   "metadata": {},
   "outputs": [
    {
     "name": "stdout",
     "output_type": "stream",
     "text": [
      "accuracy:0.8790, Precision:0.8741, Recall:0.8877, F1:0.8809\n"
     ]
    }
   ],
   "source": [
    "metrics(y_test.tolist(), eval_neuralnet(model2))"
   ]
  },
  {
   "cell_type": "markdown",
   "metadata": {},
   "source": [
    "25 epochs more dimentionality and a CNN and we got worse values than the linear regression.\n",
    "\n",
    "Lets try adding more hidden units"
   ]
  },
  {
   "cell_type": "markdown",
   "metadata": {},
   "source": [
    "# Lets go for a CNN round 2"
   ]
  },
  {
   "cell_type": "code",
   "execution_count": 77,
   "metadata": {},
   "outputs": [],
   "source": [
    "output_shape = 1 # binary 0 , 1\n",
    "hiddenunits = 20\n",
    "input_shape = 10000"
   ]
  },
  {
   "cell_type": "code",
   "execution_count": 78,
   "metadata": {},
   "outputs": [],
   "source": [
    "vectorizer = TfidfVectorizer(max_features=10000)\n",
    "\n",
    "data_train = vectorizer.fit_transform(X_train)\n",
    "data_test = vectorizer.transform(X_test)\n",
    "\n",
    "data_train_dense = data_train.toarray()  # Convert to dense numpy array\n",
    "data_test_dense = data_test.toarray()\n",
    "torch.manual_seed(0)\n",
    "\n",
    "# add to tensor\n",
    "X_train_tensor = torch.tensor(data_train_dense, dtype=torch.float32).to(device)\n",
    "X_test_tensor = torch.tensor(data_test_dense, dtype=torch.float32).to(device)\n",
    "y_train_tensor = torch.tensor(y_train.values, dtype=torch.float32).to(device)\n",
    "y_test_tensor = torch.tensor(y_test.values, dtype=torch.float32).to(device)\n",
    "\n",
    "#Dataset creation\n",
    "train_dataset = TensorDataset(X_train_tensor, y_train_tensor)\n",
    "test_dataset = TensorDataset(X_test_tensor, y_test_tensor)\n",
    "\n",
    "# test and trainloader\n",
    "training_loader = DataLoader(train_dataset, batch_size=batch_size, shuffle=True)\n",
    "testing_loader = DataLoader(test_dataset, batch_size=batch_size, shuffle=False)"
   ]
  },
  {
   "cell_type": "code",
   "execution_count": 79,
   "metadata": {},
   "outputs": [],
   "source": [
    "class CNN2(nn.Module):\n",
    "    def __init__(self, input_shape, hidden_units, output_shape, drop_out_rate):\n",
    "        super().__init__()\n",
    "        self.convblock1 = nn.Sequential(\n",
    "            nn.Conv1d(in_channels=1, out_channels=hidden_units, kernel_size=3),  # Single channel input\n",
    "            nn.ReLU(),\n",
    "            nn.MaxPool1d(kernel_size=2)\n",
    "        )\n",
    "        # Calculate the size after the convolutional and pooling layers\n",
    "        self.fc_input_size = self._calculate_fc_input(input_shape, hidden_units)\n",
    "        # Fully connected layers\n",
    "        self.connected = nn.Sequential(\n",
    "            nn.Flatten(),\n",
    "            nn.Linear(self.fc_input_size, 128),\n",
    "            nn.ReLU(),\n",
    "            nn.Linear(128, output_shape)\n",
    "        )\n",
    "    \n",
    "    def _calculate_fc_input(self, input_shape, hidden_units):\n",
    "        \"\"\"\n",
    "        Calculate the flattened size after convolutional and pooling layers.\n",
    "        \"\"\"\n",
    "        sequence_length = input_shape  # This is the number of features\n",
    "        # After first conv + pooling\n",
    "        sequence_length = (sequence_length - 3 + 1) // 2  \n",
    "\n",
    "        return hidden_units * sequence_length\n",
    "    \n",
    "    def forward(self, x):\n",
    "        x = x.unsqueeze(1) # unsqueeze  \n",
    "        x = self.convblock1(x)\n",
    "        x = self.connected(x)\n",
    "        return x"
   ]
  },
  {
   "cell_type": "code",
   "execution_count": 80,
   "metadata": {},
   "outputs": [
    {
     "name": "stdout",
     "output_type": "stream",
     "text": [
      "Epoch [1/10], Loss: 0.7055\n",
      "Epoch [6/10], Loss: 0.6932\n"
     ]
    }
   ],
   "source": [
    "import torch\n",
    "model3 = CNN2(output_shape=output_shape, input_shape=input_shape, hidden_units=hiddenunits, drop_out_rate=drop_out_rate).to(device)\n",
    "optimizer = torch.optim.Adam(model3.parameters(), lr=0.001)\n",
    "loss_fn = nn.BCEWithLogitsLoss()\n",
    "epoch_losses = train_loop(model3, 10, loss_fn, optimizer)\n"
   ]
  },
  {
   "cell_type": "code",
   "execution_count": 23,
   "metadata": {},
   "outputs": [
    {
     "data": {
      "image/png": "[encoded data removed]",
      "text/plain": [
       "<Figure size 1200x700 with 1 Axes>"
      ]
     },
     "metadata": {},
     "output_type": "display_data"
    }
   ],
   "source": [
    "plot_epoch_losses(epoch_losses)"
   ]
  },
  {
   "cell_type": "markdown",
   "metadata": {},
   "source": [
    "This paper seemingly finds that a simple cnn with little hyperparameters get the job done \"Convolutional Neural Networks for Sentence Classification\"- Yoon Kim\n",
    "In our case a simple linear regression turned out better, serveral reason for this could be limited compute working with tiny neural networks, \n",
    "But this is just a unfortunte constraint which a student with a 20-series grafics card has to face.\n",
    "\n",
    "I also want to preface that a dropout layer in this case scenario seems rather strange working with neural networks with incredibly few parameters and very short training, overtraining would most likely not be an issue and maybe compute would be better spent on hidden units or layers.\n",
    "I think one conclusion is that neural networks might be great at picking up hidden patterns, the compute nessecary might in some cases make a neural network the wrong approach.\n",
    "\n",
    "If my life depended on it what would I do to make this model better?\n",
    "The choice of architecture even without the increase in hyperparmeters i neglected in testing a few different neuralnetworks a LSTM could be usable and even perform at a high level, it's important to always test data and models results can always surprise you.\n",
    "If outcome accuracy is preferred training a existing model on the data would garnish better results, but what's the fun in that?\n",
    "GPT models could again be trained for the exact same reason as listed above.\n",
    "Different and more complex vectorizes could be tested, mainly word2vec is a popular one in many AI papers recarding similar topics.\n",
    "\n",
    "To conclude things in our day age we still shouldn't forget about what got us here linear regression :)"
   ]
  }
 ],
 "metadata": {
  "kernelspec": {
   "display_name": "Python 3",
   "language": "python",
   "name": "python3"
  },
  "language_info": {
   "codemirror_mode": {
    "name": "ipython",
    "version": 3
   },
   "file_extension": ".py",
   "mimetype": "text/x-python",
   "name": "python",
   "nbconvert_exporter": "python",
   "pygments_lexer": "ipython3",
   "version": "3.12.1"
  }
 },
 "nbformat": 4,
 "nbformat_minor": 2
}
